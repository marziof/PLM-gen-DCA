{
 "cells": [
  {
   "cell_type": "code",
   "execution_count": 1,
   "metadata": {},
   "outputs": [],
   "source": [
    "from matching import load_seqs, paired_fasta_to_labeled_array, split_labeled_seqs\n",
    "import numpy as np\n",
    "from Bio.SeqRecord import SeqRecord\n",
    "from Bio.Seq import Seq\n",
    "from Bio import SeqIO"
   ]
  },
  {
   "cell_type": "code",
   "execution_count": 2,
   "metadata": {},
   "outputs": [],
   "source": [
    "good_seqs, good_ids = load_seqs(\"./CODE/DataAttentionDCA/HK-RR/HK-RR_174_train.fasta\", return_ID=True)"
   ]
  },
  {
   "cell_type": "code",
   "execution_count": 3,
   "metadata": {},
   "outputs": [
    {
     "name": "stdout",
     "output_type": "stream",
     "text": [
      "1942\n"
     ]
    }
   ],
   "source": [
    "\n",
    "seqsA_label, seqsB_label = paired_fasta_to_labeled_array(\n",
    "    \"./CODE/DataAttentionDCA/HK-RR/HK-RR_174_train.fasta\", L_A=63\n",
    ")\n",
    "\n",
    "\n",
    "\n",
    "seqsA_label[:,1]=seqsA_label[:,1].astype(np.uint16) # Needed for numba\n",
    "seqsB_label[:,1]=seqsB_label[:,1].astype(np.uint16)\n",
    "\n",
    "seqsA_split, seqsB_split = split_labeled_seqs(seqsA_label, seqsB_label)\n",
    "\n",
    "seqsB_split_perm = np.array(seqsB_split, dtype=object)\n",
    "nb_species = len(seqsA_split)\n",
    "fixed_points=0\n",
    "permutations=[]\n",
    "for species in range(nb_species):\n",
    "\n",
    "    seqsA_tmp = seqsA_split[species]\n",
    "    seqsB_tmp = seqsB_split[species]\n",
    "\n",
    "    permutation = np.random.permutation(seqsB_tmp.shape[0])\n",
    "    permutations.append(permutation)\n",
    "\n",
    "    seqsB_split_perm[species] = seqsB_tmp[permutation]\n",
    "\n",
    "\n",
    "    fixed_points += np.sum(permutation == np.arange(len(permutation)))\n",
    "\n",
    "print(fixed_points)"
   ]
  },
  {
   "cell_type": "code",
   "execution_count": 86,
   "metadata": {},
   "outputs": [],
   "source": [
    "with open(\"./CODE/DataAttentionDCA/HK-RR/HK-RR_174_train_scambled_permutations.txt\", \"w\") as f:\n",
    "\tfor permutation in permutations:\n",
    "\t\tnp.savetxt(f, permutation[None], fmt='%d')"
   ]
  },
  {
   "cell_type": "code",
   "execution_count": 87,
   "metadata": {},
   "outputs": [],
   "source": [
    "# put sequences back together:\n",
    "\n",
    "seqsA= np.concatenate(seqsA_split)\n",
    "seqsA = seqsA[np.lexsort((seqsA[:, 1], seqsA[:, 0]))]\n",
    "\n",
    "seqsB = np.concatenate(seqsB_split_perm)"
   ]
  },
  {
   "cell_type": "code",
   "execution_count": 88,
   "metadata": {},
   "outputs": [],
   "source": [
    "ids_A = good_ids[seqsA[:, 1].astype(int)]\n",
    "ids_B = good_ids[seqsB[:, 1].astype(int)]\n",
    "\n",
    "ids_A=[id.split(\"|\")[0]for id in ids_A]\n",
    "ids_B=[id.split(\"//\")[1].split(\"|\")[0] +\"|\"+id.split(\"|\")[1] for id in ids_B]"
   ]
  },
  {
   "cell_type": "code",
   "execution_count": 89,
   "metadata": {},
   "outputs": [
    {
     "data": {
      "text/plain": [
       "array([['-', '-', '-', ..., 'K', 'V', '-'],\n",
       "       ['-', 'L', 'S', ..., 'R', 'V', '-'],\n",
       "       ['-', '-', 'N', ..., 'R', 'I', 'K'],\n",
       "       ...,\n",
       "       ['-', '-', 'K', ..., 'R', '-', '-'],\n",
       "       ['-', 'L', 'N', ..., 'R', '-', '-'],\n",
       "       ['-', 'Q', 'N', ..., 'R', '-', '-']], dtype=object)"
      ]
     },
     "execution_count": 89,
     "metadata": {},
     "output_type": "execute_result"
    }
   ],
   "source": [
    "all_seqs_new = np.concatenate((seqsA[:, 2:], seqsB[:, 2:]), axis=1)\n",
    "all_seqs_new"
   ]
  },
  {
   "cell_type": "code",
   "execution_count": 90,
   "metadata": {},
   "outputs": [],
   "source": [
    "out_file    = open(\"./CODE/DataAttentionDCA/HK-RR/HK-RR_174_train_scambled.fasta\", \"w\")\n",
    "for i in range(all_seqs_new.shape[0]):\n",
    "    record = SeqRecord(\n",
    "    Seq(''.join(all_seqs_new[i])),\n",
    "    id=ids_A[i]+\"/\"+ids_B[i],\n",
    "    description=\"\")\n",
    "    SeqIO.write(record, out_file, \"fasta\")"
   ]
  }
 ],
 "metadata": {
  "kernelspec": {
   "display_name": ".attDCA_py",
   "language": "python",
   "name": "python3"
  },
  "language_info": {
   "codemirror_mode": {
    "name": "ipython",
    "version": 3
   },
   "file_extension": ".py",
   "mimetype": "text/x-python",
   "name": "python",
   "nbconvert_exporter": "python",
   "pygments_lexer": "ipython3",
   "version": "3.12.7"
  }
 },
 "nbformat": 4,
 "nbformat_minor": 2
}

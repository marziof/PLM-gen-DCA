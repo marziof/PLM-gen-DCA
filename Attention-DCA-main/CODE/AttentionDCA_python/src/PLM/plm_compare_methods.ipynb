{
 "cells": [
  {
   "cell_type": "markdown",
   "metadata": {},
   "source": [
    "# Compare Gen methods"
   ]
  },
  {
   "cell_type": "code",
   "execution_count": null,
   "metadata": {},
   "outputs": [],
   "source": [
    "from plm_model import *\n",
    "import numpy as np\n",
    "import torch\n",
    "import os\n",
    "import sys\n",
    "#current_dir = os.path.dirname(__file__)\n",
    "current_dir = os.getcwd()\n",
    "\n",
    "parent_dir = os.path.abspath(os.path.join(current_dir, '..'))\n",
    "sys.path.insert(0, parent_dir)\n",
    "from model import AttentionModel\n",
    "from attention import trainer\n",
    "from dcascore import *\n",
    "# back to original path (in PLM)\n",
    "sys.path.pop(0)  # Removes the parent_dir from sys.path\n",
    "from plm_methods import read_tensor_from_txt, set_seed, letters_to_nums, modify_seq"
   ]
  },
  {
   "cell_type": "markdown",
   "metadata": {},
   "source": [
    "## Load Q, K, V; compute J"
   ]
  },
  {
   "cell_type": "code",
   "execution_count": null,
   "metadata": {},
   "outputs": [
    {
     "name": "stdout",
     "output_type": "stream",
     "text": [
      "torch.Size([64, 63, 63])\n",
      "21\n",
      "63\n"
     ]
    }
   ],
   "source": [
    "##############################################################\n",
    "\"\"\"\n",
    "    Load Q, K, V matrices from jdoms (after training)\n",
    "\"\"\"\n",
    "set_seed()\n",
    "H = 64\n",
    "d= 10\n",
    "N = 174\n",
    "n_epochs = 500\n",
    "loss_type = 'without_J'\n",
    "family = 'jdoms' #'jdoms_bacteria_train2'\n",
    "cwd = '/Users/marzioformica/Desktop/EPFL/Master/MA2/Labo/my_project/PLM-gen-DCA/Attention-DCA-main/CODE/AttentionDCA_python/src'\n",
    "Q_1 = read_tensor_from_txt( cwd +\"/results/{H}_{d}_{family}_{losstype}_{n_epochs}_youss/Q_tensor.txt\".format(H=H, d=d, family=family, losstype=loss_type, n_epochs=n_epochs))\n",
    "K_1 = read_tensor_from_txt( cwd +\"/results/{H}_{d}_{family}_{losstype}_{n_epochs}_youss/K_tensor.txt\".format(H=H, d=d, family=family, losstype=loss_type, n_epochs=n_epochs))\n",
    "V_1 = read_tensor_from_txt( cwd +\"/results/{H}_{d}_{family}_{losstype}_{n_epochs}_youss/V_tensor.txt\".format(H=H, d=d, family=family, losstype=loss_type, n_epochs=n_epochs))\n",
    "H,d,N=Q_1.shape\n",
    "q=V_1.shape[1]\n",
    "\n",
    "##############################################################\n",
    "\"\"\"\n",
    "    Initialize the model and compute couplings J from Q, K, V\n",
    "\"\"\" \n",
    "model=AttentionModel(H,d,N,q,Q=Q_1,V=V_1,K=K_1)\n",
    "torch.sum(model.Q-Q_1)\n",
    "device = Q_1.device\n",
    "L = Q_1.shape[-1]\n",
    "W=attention_heads_from_model(model,Q_1,K_1,V_1)\n",
    "print(W.shape)\n",
    "\n",
    "i_indices = torch.arange(L, device=device).unsqueeze(1)\n",
    "j_indices = torch.arange(L, device=device).unsqueeze(0)\n",
    "mask = (i_indices != j_indices).float().unsqueeze(0)  # shape (1, L, L)\n",
    "W = W * mask\n",
    "    \n",
    "# Compute Jtens\n",
    "Jtens = torch.einsum('hri,hab->abri', W, V_1)  # Shape: (q, q, L, L)\n",
    "q = Jtens.shape[0]\n",
    "N = Jtens.shape[2]\n",
    "print(q)\n",
    "print(N)"
   ]
  },
  {
   "cell_type": "code",
   "execution_count": null,
   "metadata": {},
   "outputs": [
    {
     "name": "stdout",
     "output_type": "stream",
     "text": [
      "tensor([[ 8.4190e-02, -1.1062e-03, -7.9344e-02, -6.0122e-03,  1.8884e-02,\n",
      "          3.7376e-02, -6.7353e-03, -2.6382e-02,  1.9143e-02,  9.7130e-02,\n",
      "         -4.3858e-02, -3.0229e-02,  4.0515e-02, -1.2474e-02,  5.2964e-02,\n",
      "         -6.5531e-02,  6.6707e-03,  2.4711e-02, -1.1974e-02, -1.7580e-02,\n",
      "          2.6321e-02],\n",
      "        [-1.9488e-02, -2.1032e-04, -2.5435e-02,  5.5132e-03, -1.3635e-02,\n",
      "         -8.1761e-03,  3.0495e-03, -1.3606e-02, -1.4065e-02, -4.8213e-02,\n",
      "         -4.1118e-03, -8.1658e-03,  4.1129e-03,  1.3696e-03, -1.2804e-02,\n",
      "         -2.0105e-02, -7.4580e-03, -1.5246e-02, -4.5735e-03,  1.1006e-02,\n",
      "         -2.0161e-03],\n",
      "        [-3.4951e-02,  5.6149e-03, -9.6376e-02, -8.7806e-02,  4.6556e-02,\n",
      "         -1.1157e-02, -9.2960e-03, -7.7389e-04,  1.4078e-01, -4.5730e-02,\n",
      "         -2.6454e-03,  1.3194e-02, -1.9140e-02,  2.7268e-02,  1.5225e-01,\n",
      "          5.0871e-02, -1.6868e-02, -1.0864e-02, -2.9854e-03, -8.3227e-02,\n",
      "          1.3813e-04],\n",
      "        [-2.4088e-02,  1.1599e-02, -3.6280e-02, -7.9341e-02,  9.8437e-03,\n",
      "          1.0385e-02,  1.1356e-02, -1.9478e-02,  3.2047e-02,  9.6128e-02,\n",
      "          4.0996e-02,  1.2873e-02,  2.4368e-02, -2.0821e-03,  2.2109e-02,\n",
      "         -1.0144e-03,  2.2620e-02,  3.6586e-02, -5.4336e-03, -6.8156e-02,\n",
      "         -1.8516e-02],\n",
      "        [ 9.1203e-03,  6.2104e-04,  3.3149e-02, -4.1672e-02, -3.2287e-02,\n",
      "         -2.0719e-02, -1.0228e-02,  3.6442e-02, -3.7395e-04, -4.5900e-02,\n",
      "          1.2231e-02, -2.3171e-02, -2.1866e-02,  2.3010e-02, -2.6512e-02,\n",
      "          1.5387e-02, -3.1407e-03, -3.9758e-03, -1.0360e-02,  1.1509e-01,\n",
      "         -1.4912e-02],\n",
      "        [ 3.1002e-02, -3.2537e-03,  7.8849e-03,  8.5773e-03, -8.6456e-03,\n",
      "          1.4984e-02, -6.1368e-03, -3.2114e-02,  3.9072e-02,  1.5739e-02,\n",
      "          3.6508e-03,  1.4015e-02,  1.2989e-02, -2.7050e-02,  3.2951e-02,\n",
      "         -2.5658e-02, -2.0344e-02, -9.2869e-03,  4.4105e-03, -4.5384e-02,\n",
      "         -3.5110e-02],\n",
      "        [ 5.1113e-02,  3.9601e-03, -4.0990e-02, -2.6338e-03, -1.4122e-02,\n",
      "         -1.1692e-02,  1.0625e-02, -1.6433e-02,  2.2454e-02, -3.8601e-02,\n",
      "         -1.1071e-02, -1.3801e-02, -1.0600e-03,  9.1481e-03,  2.7030e-02,\n",
      "          1.1482e-03, -2.4454e-03,  4.9786e-03,  1.6397e-03,  2.5331e-02,\n",
      "         -2.9847e-02],\n",
      "        [-5.8505e-02,  5.8002e-04,  3.5066e-02, -4.6481e-02,  2.6544e-02,\n",
      "          7.7515e-03, -2.9849e-02,  1.5059e-03,  2.9371e-02, -5.0438e-02,\n",
      "          4.8334e-04,  2.0698e-02, -1.2417e-02,  1.0048e-02, -2.0128e-02,\n",
      "          9.2007e-03,  8.7720e-03,  4.2429e-02, -3.2706e-03,  5.0861e-02,\n",
      "         -7.3443e-03],\n",
      "        [-2.8184e-02,  1.5072e-03,  1.7551e-01,  1.0745e-01,  3.9956e-02,\n",
      "          3.1298e-02, -2.9780e-02,  5.8586e-02, -1.1213e-01,  5.9015e-03,\n",
      "         -1.1025e-02, -1.4308e-02, -4.7219e-02,  3.3147e-04, -1.5454e-01,\n",
      "          1.9739e-02,  2.2043e-02,  1.1766e-02,  1.0861e-03, -1.4559e-02,\n",
      "         -1.2898e-02],\n",
      "        [ 5.5565e-02, -3.1872e-03, -3.9533e-02, -1.1344e-02, -4.2077e-03,\n",
      "         -4.0435e-02, -7.7700e-04,  8.2686e-02, -4.4683e-02, -3.0314e-03,\n",
      "         -3.9358e-04, -1.6376e-02,  4.9142e-02, -6.0099e-02, -5.3792e-02,\n",
      "          3.6498e-02,  8.4935e-02,  1.1263e-02,  1.4912e-02,  5.1406e-02,\n",
      "          1.7852e-03],\n",
      "        [-3.5784e-02, -4.8083e-03, -1.5569e-02, -1.9071e-02, -4.1534e-03,\n",
      "         -4.7680e-03,  2.0660e-02, -6.4731e-03,  3.8576e-02, -2.3442e-02,\n",
      "          8.1054e-03,  5.2581e-03,  1.5503e-02, -4.6971e-02, -2.3024e-02,\n",
      "         -6.9359e-03, -3.4030e-02, -1.3600e-02,  4.0971e-03,  4.7773e-02,\n",
      "          1.6792e-02],\n",
      "        [-3.8492e-02, -2.0892e-03,  4.8296e-02,  4.4568e-02,  6.4779e-03,\n",
      "         -6.1907e-03,  1.5880e-02, -2.8522e-02, -1.8922e-02, -3.3699e-02,\n",
      "          1.2938e-02,  6.9013e-02, -4.8462e-02,  3.6773e-02, -2.2876e-02,\n",
      "          8.3707e-02, -9.6730e-03, -3.9273e-02,  3.1679e-03, -3.9328e-02,\n",
      "         -1.3793e-02],\n",
      "        [ 5.5673e-02,  2.2076e-03, -5.3357e-02,  1.5621e-02, -1.0264e-02,\n",
      "         -3.0936e-02, -3.0151e-02,  1.3146e-03,  3.7711e-04, -4.9010e-02,\n",
      "         -6.4508e-03, -1.2004e-02,  4.8647e-02,  7.4164e-03, -1.5929e-03,\n",
      "          3.4840e-03,  3.8420e-03, -1.4448e-02, -4.8744e-03, -5.6557e-02,\n",
      "          6.7725e-02],\n",
      "        [ 8.4054e-03, -5.5401e-03, -3.8468e-02, -2.3033e-02, -6.4255e-03,\n",
      "          4.1971e-03,  1.1531e-03,  5.8766e-03,  2.9684e-02, -3.4149e-02,\n",
      "          2.2087e-02,  1.4882e-02, -3.6444e-03,  5.1630e-02, -1.4573e-02,\n",
      "          2.0137e-02,  1.5486e-02,  2.5557e-03, -9.5824e-03,  1.6116e-02,\n",
      "         -5.8160e-03],\n",
      "        [ 2.4189e-02,  1.1868e-04,  1.5364e-01,  1.1574e-01,  1.3778e-02,\n",
      "          8.0113e-03,  3.8417e-02,  3.9500e-02, -1.2636e-01,  4.8434e-02,\n",
      "          6.9468e-04, -1.4720e-02, -5.2312e-02, -2.8370e-02,  1.1824e-02,\n",
      "         -6.9099e-02, -3.1015e-02, -1.3749e-02, -3.4797e-03, -4.4475e-02,\n",
      "         -1.6478e-03],\n",
      "        [-5.0225e-02, -3.4243e-03,  1.6074e-02,  2.2343e-02, -2.4260e-03,\n",
      "         -1.7164e-02,  8.9050e-03, -2.8440e-02,  7.2118e-03,  6.2994e-02,\n",
      "         -7.0328e-03,  3.8751e-02,  1.1624e-02,  3.2088e-02, -3.5489e-02,\n",
      "         -3.2126e-03, -1.6722e-02,  2.0851e-02, -2.7981e-03, -2.4435e-03,\n",
      "          2.1988e-02],\n",
      "        [ 3.0201e-02, -1.2009e-02,  4.4420e-02,  3.4824e-02, -3.0902e-02,\n",
      "          1.6397e-02,  1.6855e-02, -1.4448e-02, -2.6184e-02,  7.2061e-02,\n",
      "         -1.4752e-02, -2.2138e-02,  1.1013e-03, -1.3166e-02, -5.0248e-02,\n",
      "         -1.6443e-02,  3.8188e-03, -1.1205e-02,  5.0948e-03, -3.2884e-02,\n",
      "          2.5410e-02],\n",
      "        [-1.0011e-02,  1.1650e-02, -4.7561e-02,  8.4342e-03, -1.7592e-02,\n",
      "         -7.9422e-03, -1.5421e-02, -2.5503e-03, -6.8626e-03,  1.3835e-02,\n",
      "          3.2784e-03, -8.7170e-03,  4.0875e-02, -2.2404e-03,  7.0275e-02,\n",
      "         -1.9781e-02, -1.9367e-02,  8.9156e-03,  3.2628e-03,  3.0390e-03,\n",
      "          2.4790e-02],\n",
      "        [-3.6604e-02, -1.4876e-03, -4.2324e-02,  8.5947e-04, -1.1808e-02,\n",
      "          3.2972e-02, -1.7695e-03, -1.7280e-02, -1.0629e-02, -4.2507e-02,\n",
      "         -5.4981e-03, -5.9454e-03, -2.6130e-02,  1.2104e-02,  5.0048e-02,\n",
      "         -2.8331e-02, -2.9902e-02, -1.7950e-02,  2.5545e-02,  8.9363e-03,\n",
      "         -1.0387e-02],\n",
      "        [-4.0293e-02,  1.6644e-03, -4.6617e-02, -1.7416e-02,  1.5160e-02,\n",
      "         -1.0825e-02, -3.1332e-03, -2.0634e-02,  3.0226e-02,  1.5160e-02,\n",
      "         -3.7977e-03, -2.9849e-02, -3.3316e-03, -1.4425e-02,  1.5610e-02,\n",
      "          1.7623e-02,  2.4698e-02, -1.7334e-02, -2.6931e-03,  6.3032e-02,\n",
      "          1.4701e-02],\n",
      "        [ 9.8539e-03, -3.2270e-03,  2.6350e-02, -1.9195e-02, -1.6360e-02,\n",
      "          1.0025e-02,  1.7844e-02,  7.8193e-03, -4.1829e-02, -4.8901e-03,\n",
      "          3.5858e-03,  8.0121e-03, -1.7939e-02,  3.1159e-03, -1.3444e-02,\n",
      "         -6.4240e-04, -8.3531e-04,  6.8614e-03, -1.7205e-03,  6.8924e-03,\n",
      "         -5.0493e-02]])\n"
     ]
    }
   ],
   "source": [
    "#print first line of Jtens\n",
    "print(Jtens[:,:,30,31])"
   ]
  },
  {
   "cell_type": "code",
   "execution_count": null,
   "metadata": {},
   "outputs": [],
   "source": [
    "N_seqs = 5000\n",
    "init_seq = 'DYYQVLGVPKDADAKSIKKAFRKLARKYHPDVNPGDKEAERKFKEANEANEVLSDPEKRKKYD'\n",
    "init_sequence_num = letters_to_nums(init_seq)\n",
    "ratio = 0.1\n",
    "init_sequence_num = modify_seq(init_sequence_num, ratio)"
   ]
  },
  {
   "cell_type": "code",
   "execution_count": null,
   "metadata": {},
   "outputs": [
    {
     "name": "stderr",
     "output_type": "stream",
     "text": [
      "100%|██████████| 5000/5000 [01:07<00:00, 74.23it/s]\n"
     ]
    }
   ],
   "source": [
    "from plm_gen_methods import generate_plm\n",
    "gen_sequences_M = generate_plm(Jtens, N_seqs, init_sequence_num)"
   ]
  },
  {
   "cell_type": "code",
   "execution_count": null,
   "metadata": {},
   "outputs": [
    {
     "name": "stdout",
     "output_type": "stream",
     "text": [
      "[ 2 19 19 11 17  9  5 17  0 13  5  0  2  2  2  3  7 14 14  0 19 14  8  9\n",
      "  0  8 14 19  6 12  2  8 15 20 12  3 12  8  0  3  3 14  4  8  3 17 15  3\n",
      "  0 11  3 17  9  5  2 12  5  8 14  0 18 19  2]\n"
     ]
    },
    {
     "name": "stderr",
     "output_type": "stream",
     "text": [
      "100%|██████████| 2000/2000 [01:01<00:00, 32.46it/s]\n"
     ]
    }
   ],
   "source": [
    "from plm_model import generate_plm_y\n",
    "print(init_sequence_num)\n",
    "gen_sequences_y=generate_plm_y(Jtens,initial_seq=init_sequence_num,maxiter=2000,beta=1)"
   ]
  },
  {
   "cell_type": "code",
   "execution_count": null,
   "metadata": {},
   "outputs": [
    {
     "name": "stdout",
     "output_type": "stream",
     "text": [
      "Sequence 1 (in letters): YYYWVLGVPKDADAKSIKKAFRKMARKYHPDVNPGDKEAERKFKEANIANEVLLDPEKRFKYD\n",
      "Sequence 101 (in letters): DYYKVLGVPEDVSEEDIRKAYRKLAIKYHPDRHPHDKEADEKFQSANEAYEVLSDEEKRKQYD\n",
      "Sequence 201 (in letters): DFYDVLGVSRDASEDEIKKAYRLLAKKYHPDATKDDETAAHAFKEIATAYRVLSDSGPRQKYD\n",
      "Sequence 301 (in letters): -LHDVLGLSQGASTEEVKLAPRLLAKQLHPDAN-GDNDAATFFDEVNEAYSILSDPEERRRYD\n",
      "Sequence 401 (in letters): NLYEVLGLAQGASTEEVKKAYRKKAMRLHPDANPPNNEAETRFTEVNGAYESLSDPELRKRYD\n",
      "Sequence 501 (in letters): NPYEVLGVRQGADEKQIKSAYRQLAQQLHPDANPGNAYAEERFKEVNIAYEVLNSPKKRQRYD\n",
      "Sequence 601 (in letters): DHYAALQVRRDAEPKQIRSAFRRLAQELHPDLNPSPKQAEERFKALSAAYEILSNAERRARFD\n",
      "Sequence 701 (in letters): DHYAMLQASLDAEREDVKKAYRKLSRELHPELKPESAAAEDRFKALSTAYEVLSDAARRAEHD\n",
      "Sequence 801 (in letters): DHYQTLGIAPTAEIQTVRSAYRRLAAEFHPERNPERQAAPDRFVAITAAYEVLSDPRRRAEYD\n",
      "Sequence 901 (in letters): DHYDDLEISPTASIYQIRQAYFRQAQLYHPERH-KAPIARDVFAAIQHAYAVLSDPSQRSAYD\n",
      "Sequence 1001 (in letters): DHYQTLGVSVGASAEQIRQAFKRLALRNHPDRLVDAPGAREVIARVQTAYEVLADHERRQRHD\n",
      "Sequence 1101 (in letters): DPYAVLGLRPAATEREIKQAYKKKAMKFHPDKLLTRPASERPMMQVQTAYKVL-THYLRKQYD\n",
      "Sequence 1201 (in letters): DPYAVLGLTPAATAEEIRKAYRRLAMKCHPDKL--GPDVYERMQQLSEAYAVLDRPERRREYD\n",
      "Sequence 1301 (in letters): DLYEVLGVEPSAGPEEIKRAYRRRAFKYHPDKNAPDPDAARRFQELRAAYDVLSHEVRRAEYD\n",
      "Sequence 1401 (in letters): DLYDVLGVAKDAPAEEIKLAYRQRIFEYHPDKHAHDTANARRFQTLQAAYDVLGDEQRRKAYD\n",
      "Sequence 1501 (in letters): DHYEVLQVPRSAPKETLKRAYRVLIKKYHPDRH-HETEAERRFKEVTGAVEVLRNPVRRKEYD\n",
      "Sequence 1601 (in letters): DYYEVLGVDQNADKDTLQVSFRKPSKLYHPDVS-HEKEAEQKFLQIQEAVEVLKDDDRRAMYD\n",
      "Sequence 1701 (in letters): DYYEILGVKPSAQEQEQKVAFRSQAKLYHPDMSHGSKEGEQKFVEVAEAYEVLKDPERKDMYD\n",
      "Sequence 1801 (in letters): NYYNILMVAPTADFNQVKVAFRSKAKLYHPDVDPTSGVAQSNTVQLNEAYSTLGDPERRKMYD\n",
      "Sequence 1901 (in letters): TYYRIMGVEPTASFDQIKKAFRDLMKLYHPDVDEDEIRAAEIMNQINEAYDILGDEERRKKYD\n",
      "Sequence 2001 (in letters): TPYDLLQVSPTASLDEVRTAFRRLTKLYHPDVN-DRDGARDRFFQIQRAHGIVARERDRKNYN\n",
      "Sequence 2101 (in letters): TPYQVLGVSETASLEEIRKAFRHAAKLTHPDRIPDRVQAARAFQQAQRAYGRVATAEARQRYD\n",
      "Sequence 2201 (in letters): TWYEVLGVAPSASASEIRRAYRAAAKLWHPDVISERVRAEAAFQQI-AAYALVSDSVKRAEYD\n",
      "Sequence 2301 (in letters): DLYALLEVPRRASDSEIRRAYRRLARLYHPDLHPEDEAAWRAFRRVQAAYAILRDPDKRAAFD\n",
      "Sequence 2401 (in letters): TLYLILGVARRASLDEIRKAMRRAARLLHPDLNPEQKAAWRVFLRAQEAYEILSEPARRAFYD\n",
      "Sequence 2501 (in letters): -LYDILGITEGATLSEIKASYKLLSTLWHPDKHPEQKEWSDIFLKLNEAYEILSHPEKRKAYD\n",
      "Sequence 2601 (in letters): NYYELLGVSPNASAQEIKQQYRKLATRYHPDRN-KSERAAHQMQKINDAYEILSHPSRRRAYD\n",
      "Sequence 2701 (in letters): NYYELLQVSPDATDQEIRLAYRRLAVKYHPDRNNTDKYAAEIMRKLMEAYQILGDPEQRAAYN\n",
      "Sequence 2801 (in letters): NYYEILNIAQDADEQDIKKAYRKLAKKYHPDRNNGDQKAAEKFRLINEAYEILGDPDKRALYD\n",
      "Sequence 2901 (in letters): -YYEVLGVPQDANAKDIKKAYRELAMKYHPDRS-KDQKAEERFKEASEAYSVLSDPVKRALYD\n",
      "Sequence 3001 (in letters): -LYEVLEVAQTAGENEIKKAFRELARKHHPDLNGGDPEAEERFKEATEAYEVLSDPVKRADYD\n",
      "Sequence 3101 (in letters): DAYEVLGVAQGASEEEIKKAWKGAALK-HPDLNGDSDENAERFREISEAIEVLSDANKRQLY-\n",
      "Sequence 3201 (in letters): NYYEVLGVAPGATSAEIRKAWRKLALKYHPDKNPDDQSAAEKFKEAQQAYEVLSDESKRQEYD\n",
      "Sequence 3301 (in letters): DYYEVLGVDKTAYKDEIKSAYRKLVKQYHPDVNSDSAIAAKRFKEIQSAYETLADSKKRQEY-\n",
      "Sequence 3401 (in letters): NYYEVLGLTKNATASEIKKAYRRLARKNHPDVN--SSSAEQKFKEVSKAYETLSDAQKFREYD\n",
      "Sequence 3501 (in letters): NYYEILGISKVATAAEIKAAYRKLARKYHPDKNPNDKSAEEKIKEANEATEILGDAEKRQEYD\n",
      "Sequence 3601 (in letters): NYYEILGISKVADAGEVKKAYRKLSRKYHPDLHPNEKTLAERFKEINEATEILSDPDLRAKYD\n",
      "Sequence 3701 (in letters): DLYDVLGVKETADETQIKAAYHRMSRKSHPDANPNDPKTAETFARISMATRTLSDQELRAQYD\n",
      "Sequence 3801 (in letters): DIYETLGVQEDASETTLKTAYRRDAFKYHPDATPGHATTAQAFLQVSIATATLGDARLRKQYD\n",
      "Sequence 3901 (in letters): DLYQILGVDHRASQETIKQAYRELARRYHPDANPG-AATHQRFAQIQIAYEILGDEALRKQYD\n",
      "Sequence 4001 (in letters): DFYQILGVPHDADSEEIKQAYRALARRWHPDKN-GDPGASQRFQELREAYRTLVDPASRRRYD\n",
      "Sequence 4101 (in letters): DYYQTLGVGPGADSQGIKKAYRALAKRCHPDVN-DNPGSEAKFRELVEAYRTLVNPQSRRRYD\n",
      "Sequence 4201 (in letters): NYYQILGVSQSADEAAIKQAYRAQAKRFHPDRN-GAAENSYAFKRAAEAYEVLVNPNERESYD\n",
      "Sequence 4301 (in letters): DYYKILGLAKDATQGQIKSAFREQAKKFHPDVN-GSAKATKKFIEVNEAFEILSNPNKRESYD\n",
      "Sequence 4401 (in letters): DYYKILGIDKDASEKDIKKAFKKLAKKYHPDVNKGSKEATKKFSEIAEAFEILGDVNKREQYD\n",
      "Sequence 4501 (in letters): DYYNILGVSKNADENAIKKAYRKLAKKYHPDVNKGNKESEAKFKEINEAYEVLGDAEKREKYD\n",
      "Sequence 4601 (in letters): DYYNILGLNRNANEGAIKKAYRKLAKKLHPDTN--NKESEAQFKEVNEAYEVLSDPEKRAMYD\n",
      "Sequence 4701 (in letters): NYYNLLGVERDAEAGAIKSAFRKVADTLHPDVN-FNSSSEEQFKAVGEAHEVLSDPEKRAIFD\n",
      "Sequence 4801 (in letters): DYYAVLGVPRTANADEIQAAYFKLVKTLHPDRN-HEPASEAQFKAVAEAHNVLRDPANRARFD\n",
      "Sequence 4901 (in letters): DYYAVLSVARTANAEELQEAYRKLARQLHPDKN--DPGAEDQFKAVGAANAVLGDPRQRAWYD\n"
     ]
    }
   ],
   "source": [
    "from plm_methods import nums_to_letters\n",
    "for i in range(0, len(gen_sequences_M), 100):\n",
    "    # Convert the sequence at index i to letters and print\n",
    "    sequence_in_letters = nums_to_letters(gen_sequences_M[i])\n",
    "    print(f\"Sequence {i + 1} (in letters): {sequence_in_letters}\")"
   ]
  },
  {
   "cell_type": "code",
   "execution_count": null,
   "metadata": {},
   "outputs": [
    {
     "name": "stdout",
     "output_type": "stream",
     "text": [
      "Sequence 1 (in letters): DYYNVLGVAQGADDDEIRRAYRKLAKRYHPDKS-PEPKAEERFKEVSEANEVLGDPGKRAWYD\n",
      "Sequence 101 (in letters): DYYEVLGVDQGADEKEIKKAYRKLAKKYHPDVN-KDPGAEEKFKEISEAYDVLSDPEKRAMYD\n",
      "Sequence 201 (in letters): DYYEILGVSQDASEAEIKKAYRKLARKYHPDVN-KDPQAEEKFKEISEAYEVLSDPEKRAMYD\n",
      "Sequence 301 (in letters): DYYEILGVSRSASAEEIKKAYRKLARKYHPDLNPSDPEAEEKFKEISEAYEVLSDPDKRALYD\n",
      "Sequence 401 (in letters): DYYEILGVSKKASEEEIKKAYRKLAKKYHPDLNPSDKEAEEKFKEINEAYEVLSDKEKRALYD\n",
      "Sequence 501 (in letters): DYYKILGVSKNASEDEIKKAYRKLAKKYHPDLNPSDKEAEEKFKEIKEAYEVLSDPKKRAQYD\n",
      "Sequence 601 (in letters): DYYEILGVSKSASEDDIKKAYRKLAKKYHPDKNPSDKEAEEKFKEISEAYEVLSDPQKRKRYD\n",
      "Sequence 701 (in letters): DYYEILGVSKHASAEEIKKAYRKLAMKYHPDRNPGNKEAEEKFKEISEAYEILSDEEKRKRYD\n",
      "Sequence 801 (in letters): DYYEILGVSKDASMDEIKKAYRKLARKYHPDLNPDDPEAEAKFKEINEAYEVLSDEEKRARYD\n",
      "Sequence 901 (in letters): DYYEILGVSKGASTDEIKKAYRKLARKYHPDLNPDDPEAEERFKEISEAYEVLSDPEKRKRYD\n",
      "Sequence 1001 (in letters): DYYEVLGVTKSASQDEIKKAYRKLALKYHPDRNPGDKEAERKFKEVNEAYAVLSDPEKRAQYD\n",
      "Sequence 1101 (in letters): DYYEILGVSKDASADEIKKAYRKLALKYHPDKNPDDPEAEEKFKEVNEAYEVLSDPEKRARYD\n",
      "Sequence 1201 (in letters): DYYEILGVSKNASADEIKKAYRKLAMKYHPDRNPDDPEAEQKFKEIKEAYEVLSDPQKRAQYD\n",
      "Sequence 1301 (in letters): DYYEVLGVPKTASIDEIKKAYRKLALKYHPDRNPDDPEAEQKFKEINEAYEVLSDPQKRAMYD\n",
      "Sequence 1401 (in letters): DYYEVLGVSKKASDAEIKKAYRKLALKYHPDRNPDDKEAEEKFKEVNEAYDVLSDPEKRARYD\n",
      "Sequence 1501 (in letters): DYYEILGVSKDADEKEIKKAYRKLALKYHPDRNPGDKEAEEKFKEVSEAYSVLGDKEKRARYD\n",
      "Sequence 1601 (in letters): DYYEVLGVKKTADEKEIKKAYRKLAMKYHPDRNPGDKSAEEKFKEVNEAYEVLGDPEKRARYD\n",
      "Sequence 1701 (in letters): DYYEVLGVPKSADEKDIKKAYRKLARKYHPDRNPGDAKAEEKFKEINEAYEVLSDPEKRARYD\n",
      "Sequence 1801 (in letters): DYYEVLGVPRTADQDELKKAYRKLARKYHPDRNPGDAAAEERFKEINEAYEVLSDPEKRARYD\n",
      "Sequence 1901 (in letters): DYYEVLGVSRDASADEIKKAYRKLARKYHPDLNPGDKEAETRFKEVSEAYEVLSDPEKRAQYD\n",
      "Sequence 2001 (in letters): DYYEVLGVSRDASEDDLKKAYRKLARKYHPDLNPGDKEAEDKFKELSEAYEVLSDPEKRAQYD\n"
     ]
    }
   ],
   "source": [
    "for i in range(0, len(gen_sequences_y), 100):\n",
    "    # Convert the sequence at index i to letters and print\n",
    "    sequence_in_letters = nums_to_letters(gen_sequences_y[i])\n",
    "    print(f\"Sequence {i + 1} (in letters): {sequence_in_letters}\")"
   ]
  },
  {
   "cell_type": "code",
   "execution_count": null,
   "metadata": {},
   "outputs": [],
   "source": []
  }
 ],
 "metadata": {
  "kernelspec": {
   "display_name": "bio_env",
   "language": "python",
   "name": "python3"
  },
  "language_info": {
   "codemirror_mode": {
    "name": "ipython",
    "version": 3
   },
   "file_extension": ".py",
   "mimetype": "text/x-python",
   "name": "python",
   "nbconvert_exporter": "python",
   "pygments_lexer": "ipython3",
   "version": "3.12.7"
  }
 },
 "nbformat": 4,
 "nbformat_minor": 2
}

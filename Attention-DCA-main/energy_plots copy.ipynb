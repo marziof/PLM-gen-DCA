{
 "cells": [
  {
   "cell_type": "code",
   "execution_count": 3,
   "metadata": {},
   "outputs": [],
   "source": [
    "import pandas as pd\n",
    "import torch\n",
    "import numpy as np\n",
    "import os\n",
    "from Bio import SeqIO\n",
    "import matplotlib.pyplot as plt\n",
    "#from CODE.AttentionDCA_python.src.plot_functions import attention_heads#, attention_heads_masks"
   ]
  },
  {
   "cell_type": "code",
   "execution_count": 4,
   "metadata": {},
   "outputs": [],
   "source": [
    "from matplotlib.colors import LinearSegmentedColormap\n",
    "import seaborn as sns\n",
    "\n",
    "colors_cmap = [\"#A21622\",\"#FE5D21\",\"#F9DB6D\",\"#E4F7DE\",\"#81C8D9\",\"#4D5AFF\",\"#13152D\"]\n",
    "colors_palette = [\"#4D5AFF\",\"#FE5D21\",\"#F6C928\",\"#02B64D\",\"#EFABFF\",\"#E072A4\",\"#337064\",\"#A21622\"]\n",
    "cmap = LinearSegmentedColormap.from_list(\"mycmap\", colors_cmap)\n",
    "cmap_palette=sns.color_palette(colors_cmap)\n",
    "\n",
    "mypalette=sns.color_palette(colors_palette)\n",
    "\n",
    "import matplotlib as mpl\n",
    "mpl.rcParams.update(mpl.rcParamsDefault)\n",
    "mpl.rc(\"text\", usetex=True)\n",
    "plt.rc('font', size=12)  \n",
    "mpl.rc(\"text.latex\", preamble=r\"\\usepackage{amsmath}\")\n",
    "\n",
    "#mpl.rcParams['xtick.major.pad'] = -3    # if you want to specify the pixels between the ticks and the labels\n",
    "#mpl.rcParams['ytick.major.pad'] = -4    # if you want to specify the pixels between the ticks and the labels\n",
    "\n",
    "fig_size_half = (3.1, 2.4)                   # (width, height in inches) -> check that it fits perfectly on the page the way you want it to\n",
    "figsize_full = (6,5)\n",
    "fig_margins = {\n",
    "    \"top\": 0.9,                         # percentage from figure to top\n",
    "    \"bottom\": 0.1,                      # percentage from figure to bottom\n",
    "    \"left\": 0.1,                        # percentage from figure to left\n",
    "    \"right\": 0.95,                      # percentage from figure to right\n",
    "    \"wspace\": 0.4,                      # weird thing to control width distribution of spacing when using multiple axes\n",
    "    \"hspace\": 0.4,                      # weird thing to control height distribution of spacing when using multiple axes\n",
    "}\n",
    "\n",
    "fig_margins_half ={\n",
    "    \"left\": 0.18,\n",
    "    \"bottom\": 0.2, \n",
    "    \"right\": 0.94, \n",
    "    \"top\": 0.88, \n",
    "    \"wspace\": 0.8, \n",
    "    \"hspace\": 0.3\n",
    "}\n",
    "#import os\n",
    "#os.environ[\"PATH\"] += os.pathsep + \"/Library/TeX/texbin\" # jupyter notebook doesn't know where to find latex (at least for me), so you need to tell it where to look\n",
    "#print(os.getenv(\"PATH\"))\n",
    "\n",
    "plt.rcParams['mathtext.fontset'] = 'stix'\n",
    "plt.rcParams['font.family'] = 'STIXGeneral'\n",
    "plt.rcParams.update({'font.size': 12})\n",
    "plt.rcParams['text.usetex'] = True\n",
    "plt.rcParams['text.latex.preamble'] = r'\\usepackage{bm}'"
   ]
  },
  {
   "cell_type": "markdown",
   "metadata": {},
   "source": [
    "### Divide train and test sequences"
   ]
  },
  {
   "cell_type": "code",
   "execution_count": null,
   "metadata": {},
   "outputs": [],
   "source": [
    "MSA_train, MSA_test, IDs_train, IDs_test = pick_training_MSA(\"./CODE/DataAttentionDCA/HK-RR/HK-RR_174.fasta\", 20000, return_IDs=True, return_test=True)\n",
    "# write_fasta(\"./CODE/DataAttentionDCA/HK-RR/HK-RR_174_train.fasta\", MSA_train, IDs_train)\n",
    "# write_fasta(\"./CODE/DataAttentionDCA/HK-RR/HK-RR_174_test.fasta\", MSA_test, IDs_test)"
   ]
  },
  {
   "cell_type": "markdown",
   "metadata": {},
   "source": [
    "### Load couplings"
   ]
  },
  {
   "cell_type": "code",
   "execution_count": 5,
   "metadata": {},
   "outputs": [],
   "source": [
    "def read_tensor_from_txt(filename):\n",
    "    with open(filename, 'r') as f:\n",
    "        lines = f.readlines()\n",
    "    \n",
    "    # Read the dimensions from the first line\n",
    "    dims = list(map(int, lines[0].strip().split()))\n",
    "    \n",
    "    # Initialize a list to hold the tensor data\n",
    "    tensor_data = []\n",
    "    \n",
    "    current_slice = []\n",
    "    for line in lines[1:]:\n",
    "        line = line.strip()\n",
    "        if line.startswith(\"Slice\"):\n",
    "            if current_slice:  # If there is an existing slice, save it\n",
    "                tensor_data.append(current_slice)\n",
    "                current_slice = []\n",
    "        elif line:  # Process non-empty lines\n",
    "            current_slice.append(list(map(float, line.split(','))))\n",
    "    \n",
    "    if current_slice:  # Append the last slice\n",
    "        tensor_data.append(current_slice)\n",
    "    \n",
    "    # Convert the list back into a tensor with the original dimensions\n",
    "    tensor = torch.tensor(tensor_data).view(*dims)\n",
    "    return tensor"
   ]
  },
  {
   "cell_type": "code",
   "execution_count": 5,
   "metadata": {},
   "outputs": [],
   "source": [
    "H = 32\n",
    "d = 23\n",
    "loss_type = \"without_J\"\n",
    "family = \"HK-RR\"\n",
    "\n",
    "epochs = 300\n",
    "cwd = os.getcwd()\n",
    "\n",
    "folder = \"HK-RR_174_train\"\n",
    "K = read_tensor_from_txt(cwd + \"/results/\" + folder + \"/K_tensor.txt\")\n",
    "Q = read_tensor_from_txt(cwd + \"/results/\" + folder + \"/Q_tensor.txt\")\n",
    "V = read_tensor_from_txt(cwd + \"/results/\" + folder + \"/V_tensor.txt\")\n",
    "\n",
    "V=V[:,1:,1:]\n",
    "A = attention_heads(Q, K, V, sym=True)"
   ]
  },
  {
   "cell_type": "markdown",
   "metadata": {},
   "source": [
    "### Check train couplings"
   ]
  },
  {
   "cell_type": "code",
   "execution_count": 6,
   "metadata": {},
   "outputs": [
    {
     "name": "stderr",
     "output_type": "stream",
     "text": [
      "c:\\Users\\lisag\\OneDrive - epfl.ch\\Documenti\\PhD\\Attention-DCA\\CODE\\AttentionDCA_python\\src\\plot_functions.py:381: UserWarning: No artists with labels found to put in legend.  Note that artists whose label start with an underscore are ignored when legend() is called with no argument.\n",
      "  plt.legend()\n"
     ]
    },
    {
     "data": {
      "image/png": "[encoded data removed]",
      "text/plain": [
       "<Figure size 800x600 with 1 Axes>"
      ]
     },
     "metadata": {},
     "output_type": "display_data"
    }
   ],
   "source": [
    "from CODE.AttentionDCA_python.src.dcascore import score, compute_PPV\n",
    "from CODE.AttentionDCA_python.src.plot_functions import graphPPV\n",
    "\n",
    "structfile = cwd + \"/CODE/DataAttentionDCA/HK-RR/HK-RR.dat\"\n",
    "\n",
    "ranking, _ = score(Q, K, V)\n",
    "PPVs = [compute_PPV(ranking, structfile, cutoff=8)]  # fallo con i 10 armstrong\n",
    "labels = [\"AttentionDCA\"]\n",
    "figtitle = \"PPV Sequence\"\n",
    "graphPPV(PPVs, labels, figtitle, fig_size=(8, 6), colors=[\"b\"], fs=15)\n",
    "\n",
    "V = np.array(V)\n",
    "A = np.array(A)"
   ]
  },
  {
   "cell_type": "markdown",
   "metadata": {},
   "source": [
    "### Load test sequences (they need to be different from seqs with trained on!!!)"
   ]
  },
  {
   "cell_type": "code",
   "execution_count": 6,
   "metadata": {},
   "outputs": [],
   "source": [
    "# Fasta functions\n",
    "\n",
    "tokens_protein = \"ACDEFGHIKLMNPQRSTVWY-\"\n",
    "\n",
    "standard_amino_acids = np.array(\n",
    "    [\n",
    "        \"A\",\n",
    "        \"C\",\n",
    "        \"D\",\n",
    "        \"E\",\n",
    "        \"F\",\n",
    "        \"G\",\n",
    "        \"H\",\n",
    "        \"I\",\n",
    "        \"K\",\n",
    "        \"L\",\n",
    "        \"M\",\n",
    "        \"N\",\n",
    "        \"P\",\n",
    "        \"Q\",\n",
    "        \"R\",\n",
    "        \"S\",\n",
    "        \"T\",\n",
    "        \"V\",\n",
    "        \"W\",\n",
    "        \"Y\",\n",
    "        \"-\"\n",
    "    ],\n",
    "    dtype=np.str_,\n",
    " )\n",
    "\n",
    "def paired_fasta_to_labeled_array(fasta_name,L_A, nb_samples=1, tokenize=False, tokens=tokens_protein):\n",
    "    \"\"\"\n",
    "    Gets fasta file with paired sequences and returns two numpy arrays with labels for the species and for the partners\n",
    "\n",
    "    ### Parameters:\n",
    "    - fasta_name: str, name of the fasta file with the paired sequences (with path). \n",
    "                  the description of the sequences should be in the format \"entry1|species|...//entry2|species|...\"   \n",
    "    - L_A: int, length of the sequences of family A\n",
    "    - nb_samples: sequences in input MSA should be generated using one-to-many (nb_samples), A to B interactions\n",
    "\n",
    "    ### Returns:\n",
    "    - seqsA: np.array, array with the sequences of family A\n",
    "    - seqsB: np.array, array with the sequences of family B\n",
    "    The first element of each sequence is the label of the species and the second element is the label of the sequence (partners have the same label after integer division //nb_samples)\n",
    "    \"\"\"\n",
    "\n",
    "    seqs=[]\n",
    "    IDs=[]\n",
    "    for record in SeqIO.parse(fasta_name, \"fasta\"):\n",
    "        seqs.append(record.seq)\n",
    "        IDs.append(record.description)\n",
    "    seqs=np.array(seqs)\n",
    "\n",
    "    MSA_A=seqs[:,:L_A]\n",
    "    MSA_B=seqs[:,L_A:]\n",
    "\n",
    "    if tokenize==True:\n",
    "        MSA_A=tokenize_seqs(MSA_A, tokens=tokens).astype(np.uint8)\n",
    "        MSA_B=tokenize_seqs(MSA_B, tokens=tokens).astype(np.uint8)\n",
    "\n",
    "    # add labels in front of sequences in MSA_A and MSA_B:\n",
    "    MSA_A_label=np.insert(MSA_A,0,0,axis=1)\n",
    "    MSA_B_label=np.insert(MSA_B,0,0,axis=1)\n",
    "\n",
    "    MSA_A_label=np.insert(MSA_A_label,0,0,axis=1)\n",
    "    MSA_B_label=np.insert(MSA_B_label,0,0,axis=1)\n",
    "\n",
    "    MSA_A_label=np.array(MSA_A_label,object) # otherwise it doesn't work\n",
    "    MSA_B_label=np.array(MSA_B_label,object)\n",
    "\n",
    "    species_dict={}\n",
    "    counter=0\n",
    "    for i in range(MSA_A.shape[0]):\n",
    "        sp=IDs[i].split(\"|\")[1]\n",
    "\n",
    "        if sp not in species_dict.keys():\n",
    "            species_dict[sp]=counter\n",
    "            counter+=1\n",
    "\n",
    "        MSA_A_label[i,0]=species_dict[sp]\n",
    "        MSA_B_label[i,0]=species_dict[sp]\n",
    "\n",
    "        pair_index=i//nb_samples\n",
    "        MSA_A_label[i,1]=str(pair_index)\n",
    "        MSA_B_label[i,1]=str(i)\n",
    "\n",
    "    return MSA_A_label, MSA_B_label\n",
    "\n",
    "def encode_sequence_lore(sequence : str, tokens : str=tokens_protein) -> list:\n",
    "    \"\"\"Takes a string sequence in input an returns the numeric encoding.\n",
    "\n",
    "    Args:\n",
    "        sequence (str): Input sequence.\n",
    "        tokens (str): Alphabet to be used for the encoding.\n",
    "\n",
    "    Returns:\n",
    "        list: Encoded sequence.\n",
    "    \"\"\"\n",
    "    letter_map = {l : n for n, l in enumerate(tokens)}\n",
    "    return np.array([letter_map[l] for l in sequence])\n",
    "\n",
    "def tokenize_seqs(seqs, tokens=tokens_protein):\n",
    "    seqs=seqs.copy()\n",
    "    seqs=seqs.astype(str)\n",
    "    seqs_str = np.array([\"\".join(seqs[i]) for i in range(len(seqs))])\n",
    "    seqs_tks = np.vectorize(\n",
    "        encode_sequence_lore, excluded=[\"tokens\"], signature=\"(), () -> (n)\"\n",
    "    )(seqs_str, tokens)\n",
    "\n",
    "    return seqs_tks"
   ]
  },
  {
   "cell_type": "code",
   "execution_count": 10,
   "metadata": {},
   "outputs": [],
   "source": [
    "MSA_A_label, MSA_B_label=paired_fasta_to_labeled_array(\"./CODE/DataAttentionDCA/data/lisa_data/HK-RR_174_test.fasta\",L_A=64)\n",
    "\n",
    "MSA_A_label[:,1]=MSA_A_label[:,1].astype(np.uint16) # Needed for numba\n",
    "MSA_B_label[:,1]=MSA_B_label[:,1].astype(np.uint16)"
   ]
  },
  {
   "cell_type": "markdown",
   "metadata": {},
   "source": [
    "### Functions"
   ]
  },
  {
   "cell_type": "code",
   "execution_count": 9,
   "metadata": {},
   "outputs": [],
   "source": [
    "from numba import prange, jit\n",
    "\n",
    "def_val=10000\n",
    "\n",
    "@jit(nopython=True) #parallelise using numba\n",
    "def interaction_energy_pair_species_label(\n",
    "    seqA, seqB, A, V, default_value=def_val\n",
    "):\n",
    "    \"\"\"\n",
    "    Takes labeled TOKENIZED sequences from interacting families A and B and calculates interaction energy between them.\n",
    "    Input sequences should have one label for interaction pair and one label for species.\n",
    "    If they're not from the same species, the interaction energy is set to default_value\n",
    "    \"\"\"\n",
    "    L_A = len(seqA) - 2\n",
    "    L_B = len(seqB) - 2\n",
    "\n",
    "    if seqA[0] != seqB[0]:\n",
    "        E_int = default_value\n",
    "\n",
    "    else:\n",
    "        E_int = 0\n",
    "        for i in range(L_A):\n",
    "            for j in range(L_B):\n",
    "                ind_a = seqA[i+2]\n",
    "                ind_b = seqB[j+2]\n",
    "\n",
    "                # if ind_a == len(symbols) - 1 or ind_b == len(symbols) - 1:\n",
    "                #     continue\n",
    "                \n",
    "                E_int += np.sum(A[:, i, j + L_A] * V[:, ind_a, ind_b]) # J(i,j+L_A,ind_a,ind_b,A,V)\n",
    "\n",
    "    return E_int\n",
    "\n",
    "@jit(nopython=True) #parallelise using numba\n",
    "def interaction_energy_pair_species_label_full(\n",
    "    seqA, seqB, A, V, default_value=def_val\n",
    "):\n",
    "    \"\"\"\n",
    "    Takes labeled TOKENIZED sequences from interacting families A and B and calculates interaction energy between them.\n",
    "    Input sequences should have one label for interaction pair and one label for species.\n",
    "    If they're not from the same species, the interaction energy is set to default_value\n",
    "    \"\"\"\n",
    "\n",
    "    labelsA=seqA[:2]\n",
    "    labelsB=seqB[:2]\n",
    "    seqA=seqA[2:]\n",
    "    seqB=seqB[2:]\n",
    "\n",
    "    seqtot=np.concatenate((seqA,seqB))\n",
    "    L = len(seqtot)\n",
    "\n",
    "    if labelsA[0] != labelsB[0]:\n",
    "        E_int = default_value\n",
    "\n",
    "    else:\n",
    "        E_int = 0\n",
    "        for i in range(L):\n",
    "            ind_a = seqtot[i]\n",
    "            for j in range(i):\n",
    "                ind_b = seqtot[j]\n",
    "\n",
    "                # if ind_a == len(symbols) - 1 or ind_b == len(symbols) - 1:\n",
    "                #     continue\n",
    "                \n",
    "                E_int += np.sum(A[:, i, j] * V[:, ind_a, ind_b]) # J(i,j+L_A,ind_a,ind_b,A,V)\n",
    "    return E_int\n",
    "\n",
    "@jit(nopython=True, parallel=True) #parallelise using numba\n",
    "def energy_calculation_tks_species_label(seqsA, seqsB, A, V):\n",
    "    \"\"\"\n",
    "    seqsA and seqsB must be in tokens, not amino acid symbols!! (and unlabeled)\n",
    "    \"\"\"\n",
    "    N_A=len(seqsA)\n",
    "    N_B=len(seqsB)\n",
    "    scores = np.zeros((N_A, N_B), dtype=np.float32)\n",
    "    for i in prange(N_A):\n",
    "        seqA=seqsA[i]\n",
    "        for j in range(N_B):\n",
    "            seqB=seqsB[j]\n",
    "            scores[i,j] = interaction_energy_pair_species_label(seqA, seqB, A, V)\n",
    "    return scores\n",
    "\n",
    "@jit(nopython=True, parallel=True) #parallelise using numba\n",
    "def energy_calculation_tks_species_label_full(seqsA, seqsB, A, V):\n",
    "    \"\"\"\n",
    "    seqsA and seqsB must be in tokens, not amino acid symbols!! (and unlabeled)\n",
    "    \"\"\"\n",
    "    N_A=len(seqsA)\n",
    "    N_B=len(seqsB)\n",
    "    scores = np.zeros((N_A, N_B), dtype=np.float32)\n",
    "    for i in prange(N_A):\n",
    "        seqA=seqsA[i]\n",
    "        for j in range(N_B):\n",
    "            seqB=seqsB[j]\n",
    "            scores[i,j] = interaction_energy_pair_species_label_full(seqA, seqB, A, V)\n",
    "    return scores\n",
    "\n",
    "def prep_spectrum_plots_energy_species(seqsA,seqsB,A, V):\n",
    "    \n",
    "    seqsA_tks=tokenize_seqs(seqsA[:,2:], tokens=tokens_protein)\n",
    "    seqsB_tks=tokenize_seqs(seqsB[:,2:], tokens=tokens_protein)\n",
    "\n",
    "    seqsA_all=np.concatenate((seqsA[:,:2], seqsA_tks), axis=1)\n",
    "    seqsA_all = seqsA_all.astype(np.uint16)\n",
    "    seqsB_all=np.concatenate((seqsB[:,:2], seqsB_tks), axis=1)\n",
    "    seqsB_all = seqsB_all.astype(np.uint16)\n",
    "\n",
    "    print(\"tokenized seqs\")\n",
    "    \n",
    "    score=energy_calculation_tks_species_label(seqsA_all,seqsB_all, A, V)\n",
    "    \n",
    "    print(\"energy calculated\")\n",
    "    score_save=score.copy()\n",
    "\n",
    "    nbseqsA, nbseqsB = np.shape(score)\n",
    "    label_B=np.zeros(np.shape(score), dtype=np.uint16)\n",
    "    correct_energies=np.zeros(np.shape(score), dtype=np.float64)\n",
    "\n",
    "    for i in prange(nbseqsA):\n",
    "        for j in range(nbseqsB):\n",
    "            label_B[i,j]=j\n",
    "            correct_energies[i,j]=1 if seqsA_all[i,0]==seqsB_all[j,0] and seqsA_all[i,1]==seqsB_all[j,1] else 0\n",
    "\n",
    "    label_B=label_B.flatten()\n",
    "    correct_energies=correct_energies.flatten()\n",
    "    score=score.flatten()  \n",
    "\n",
    "    return label_B, score, correct_energies, score_save\n",
    "\n",
    "\n",
    "def prep_spectrum_plots_energy_species_full(seqsA,seqsB,A, V):\n",
    "    \n",
    "    seqsA_tks=tokenize_seqs(seqsA[:,2:], tokens=tokens_protein)\n",
    "    seqsB_tks=tokenize_seqs(seqsB[:,2:], tokens=tokens_protein)\n",
    "\n",
    "    seqsA_all=np.concatenate((seqsA[:,:2], seqsA_tks), axis=1)\n",
    "    seqsA_all = seqsA_all.astype(np.uint16)\n",
    "    seqsB_all=np.concatenate((seqsB[:,:2], seqsB_tks), axis=1)\n",
    "    seqsB_all = seqsB_all.astype(np.uint16)\n",
    "\n",
    "    print(\"tokenized seqs\")\n",
    "    \n",
    "    score=energy_calculation_tks_species_label_full(seqsA_all,seqsB_all, A, V)\n",
    "    \n",
    "    print(\"energy calculated\")\n",
    "    score_save=score.copy()\n",
    "\n",
    "    nbseqsA, nbseqsB = np.shape(score)\n",
    "    label_B=np.zeros(np.shape(score), dtype=np.uint16)\n",
    "    correct_energies=np.zeros(np.shape(score), dtype=np.float64)\n",
    "\n",
    "    for i in prange(nbseqsA):\n",
    "        for j in range(nbseqsB):\n",
    "            label_B[i,j]=j\n",
    "            correct_energies[i,j]=1 if seqsA_all[i,0]==seqsB_all[j,0] and seqsA_all[i,1]==seqsB_all[j,1] else 0\n",
    "\n",
    "    label_B=label_B.flatten()\n",
    "    correct_energies=correct_energies.flatten()\n",
    "    score=score.flatten()  \n",
    "\n",
    "    return label_B, score, correct_energies, score_save"
   ]
  },
  {
   "cell_type": "code",
   "execution_count": 10,
   "metadata": {},
   "outputs": [
    {
     "name": "stdout",
     "output_type": "stream",
     "text": [
      "tokenized seqs\n",
      "energy calculated\n"
     ]
    }
   ],
   "source": [
    "label_B, score, correct_energies, score_save = prep_spectrum_plots_energy_species(MSA_A_label,MSA_B_label,A, V)\n",
    "df_energy=pd.DataFrame({'label B':label_B, 'score':score, 'correct':correct_energies})\n",
    "\n",
    "df_energy.to_csv('interaction_energy_scores_species.csv', index=False)"
   ]
  },
  {
   "cell_type": "code",
   "execution_count": 11,
   "metadata": {},
   "outputs": [],
   "source": [
    "df_energy=pd.read_csv('interaction_energy_scores_species.csv')"
   ]
  },
  {
   "cell_type": "code",
   "execution_count": 12,
   "metadata": {},
   "outputs": [],
   "source": [
    "correct_scores = df_energy[df_energy['correct'] == True]['score'].values\n",
    "incorrect_scores = df_energy[df_energy['correct'] == False]['score'].values\n",
    "incorrect_scores = incorrect_scores[incorrect_scores < def_val]"
   ]
  },
  {
   "cell_type": "code",
   "execution_count": 13,
   "metadata": {},
   "outputs": [],
   "source": [
    "bin_width = 5\n",
    "\n",
    "min_bins=min(min(correct_scores), min(incorrect_scores))\n",
    "max_bins=max(max(correct_scores), max(incorrect_scores))\n",
    "bins=np.arange(min_bins,max_bins+bin_width,bin_width)"
   ]
  },
  {
   "cell_type": "code",
   "execution_count": null,
   "metadata": {},
   "outputs": [],
   "source": [
    "plt.figure()\n",
    "plt.hist(correct_scores, bins=bins, alpha=0.5, label='Correct Pairs', color=mypalette[0], density=True, edgecolor='white', linewidth=0.5)\n",
    "plt.hist(incorrect_scores, bins=bins, alpha=0.5, label='Wrong Pairs', color=mypalette[1], density=True, edgecolor='white', linewidth=0.5)\n",
    "plt.xlabel(\"Interaction Energy\")\n",
    "plt.ylabel(\"Normalized Counts\")\n",
    "plt.legend()#bbox_to_anchor=(0.5, 0.7))\n",
    "plt.title(\"H={H}, d={d}\".format(H=H, d=d))\n",
    "plt.savefig('interaction_energy_scores_species.pdf')\n",
    "plt.show()"
   ]
  },
  {
   "cell_type": "code",
   "execution_count": 15,
   "metadata": {},
   "outputs": [
    {
     "name": "stdout",
     "output_type": "stream",
     "text": [
      "tokenized seqs\n",
      "energy calculated\n"
     ]
    }
   ],
   "source": [
    "label_B_full, score_full, correct_energies_full, score_save_full = prep_spectrum_plots_energy_species_full(MSA_A_label,MSA_B_label,A, V)\n",
    "df_energy_full=pd.DataFrame({'label B':label_B_full, 'score':score_full, 'correct':correct_energies_full})\n",
    "\n",
    "df_energy_full.to_csv('full_energy_scores_species.csv', index=False)"
   ]
  },
  {
   "cell_type": "code",
   "execution_count": null,
   "metadata": {},
   "outputs": [],
   "source": [
    "df_energy_full=pd.read_csv('full_energy_scores_species.csv')\n",
    "correct_scores_full = df_energy_full[df_energy_full['correct'] == True]['score'].values\n",
    "incorrect_scores_full = df_energy_full[df_energy_full['correct'] == False]['score'].values\n",
    "incorrect_scores_full = incorrect_scores_full[incorrect_scores_full < def_val]\n",
    "\n",
    "bin_width_full = 5\n",
    "\n",
    "min_full=min(min(correct_scores_full), min(incorrect_scores_full))\n",
    "max_full=max(max(correct_scores_full), max(incorrect_scores_full))\n",
    "bins_full=np.arange(min_full,max_full+bin_width_full,bin_width_full)\n",
    "\n",
    "plt.figure()\n",
    "plt.hist(correct_scores_full, bins=bins_full, alpha=0.5, color=mypalette[0], label='Correct Pairs', density=True, edgecolor='white', linewidth=0.5)\n",
    "plt.hist(incorrect_scores_full, bins=bins_full, alpha=0.5, color=mypalette[1], label='Wrong Pairs', density=True, edgecolor='white', linewidth=0.5)\n",
    "plt.xlabel(\"Energy\")\n",
    "plt.ylabel(\"Normalized Counts\")\n",
    "plt.legend()#bbox_to_anchor=(0.5, 0.7))\n",
    "plt.title(\"H={H}, d={d}\".format(H=H, d=d))\n",
    "plt.savefig('full_energy_scores_species.pdf')\n",
    "plt.show()"
   ]
  },
  {
   "cell_type": "markdown",
   "metadata": {},
   "source": [
    "## With Masks"
   ]
  },
  {
   "cell_type": "code",
   "execution_count": 17,
   "metadata": {},
   "outputs": [],
   "source": [
    "H = 32\n",
    "d = 23\n",
    "loss_type = 'without_J'\n",
    "family = 'HK-RR'\n",
    "\n",
    "epochs = 300\n",
    "cwd = os.getcwd()\n",
    "\n",
    "folder_mask=\"HK-RR_174_train_masks\"\n",
    "K_mask = read_tensor_from_txt( cwd +\"/results/\"+folder_mask+\"/K_tensor.txt\")\n",
    "Q_mask = read_tensor_from_txt( cwd +\"/results/\"+folder_mask+\"/Q_tensor.txt\") \n",
    "V_mask = read_tensor_from_txt( cwd +\"/results/\"+folder_mask+\"/V_tensor.txt\")\n",
    "\n",
    "V_mask=V_mask[:,1:,1:]\n",
    "A_mask=attention_heads_masks(Q_mask, K_mask, V_mask, sym=True, head_mask=64, H1=11, H2=26)\n",
    "\n",
    "V_mask = np.array(V_mask)\n",
    "A_mask = np.array(A_mask)"
   ]
  },
  {
   "cell_type": "code",
   "execution_count": 18,
   "metadata": {},
   "outputs": [
    {
     "name": "stdout",
     "output_type": "stream",
     "text": [
      "tokenized seqs\n",
      "energy calculated\n"
     ]
    }
   ],
   "source": [
    "label_B_mask, score_mask, correct_energies_mask, score_save_mask = prep_spectrum_plots_energy_species(MSA_A_label,MSA_B_label,A_mask, V_mask)\n",
    "df_energy_mask=pd.DataFrame({'label B':label_B_mask, 'score':score_mask, 'correct':correct_energies_mask})\n",
    "\n",
    "df_energy_mask.to_csv('interaction_energy_scores_mask_species.csv', index=False)"
   ]
  },
  {
   "cell_type": "code",
   "execution_count": 19,
   "metadata": {},
   "outputs": [
    {
     "data": {
      "image/png": "[encoded data removed]",
      "text/plain": [
       "<Figure size 640x480 with 1 Axes>"
      ]
     },
     "metadata": {},
     "output_type": "display_data"
    }
   ],
   "source": [
    "df_energy_mask=pd.read_csv('interaction_energy_scores_mask_species.csv')\n",
    "correct_scores_mask = df_energy_mask[df_energy_mask['correct'] == True]['score'].values\n",
    "incorrect_scores_mask = df_energy_mask[df_energy_mask['correct'] == False]['score'].values\n",
    "incorrect_scores_mask = incorrect_scores_mask[incorrect_scores_mask < def_val]\n",
    "\n",
    "bin_width_mask = 5\n",
    "\n",
    "min_mask=min(min(correct_scores_mask), min(incorrect_scores_mask))\n",
    "max_mask=max(max(correct_scores_mask), max(incorrect_scores_mask))\n",
    "bins_mask=np.arange(min_mask,max_mask+bin_width_mask,bin_width_mask)\n",
    "\n",
    "plt.figure()\n",
    "plt.hist(correct_scores_mask, bins=bins_mask, alpha=0.5, color=mypalette[0], label='Correct Pairs', density=True, edgecolor='white', linewidth=0.5)\n",
    "plt.hist(incorrect_scores_mask, bins=bins_mask, alpha=0.5, color=mypalette[1], label='Wrong Pairs', density=True, edgecolor='white', linewidth=0.5)\n",
    "plt.xlabel(\"Energy\")\n",
    "plt.ylabel(\"Normalized Counts\")\n",
    "plt.legend()#bbox_to_anchor=(0.5, 0.7))\n",
    "plt.title(\"With Masks, H={H}, d={d}\".format(H=H, d=d))\n",
    "plt.savefig('mask_energy_scores_species.pdf')\n",
    "plt.show()"
   ]
  },
  {
   "cell_type": "code",
   "execution_count": 20,
   "metadata": {},
   "outputs": [
    {
     "name": "stdout",
     "output_type": "stream",
     "text": [
      "tokenized seqs\n",
      "energy calculated\n"
     ]
    }
   ],
   "source": [
    "label_B_mask_full, score_mask_full, correct_energies_mask_full, score_save_mask_full = prep_spectrum_plots_energy_species_full(MSA_A_label,MSA_B_label,A_mask, V_mask)\n",
    "df_energy_mask_full=pd.DataFrame({'label B':label_B_mask_full, 'score':score_mask_full, 'correct':correct_energies_mask_full})\n",
    "\n",
    "df_energy_mask_full.to_csv('interaction_energy_scores_mask_species_full.csv', index=False)"
   ]
  },
  {
   "cell_type": "code",
   "execution_count": 21,
   "metadata": {},
   "outputs": [
    {
     "data": {
      "image/png": "[encoded data removed]",
      "text/plain": [
       "<Figure size 640x480 with 1 Axes>"
      ]
     },
     "metadata": {},
     "output_type": "display_data"
    }
   ],
   "source": [
    "df_energy_mask_full=pd.read_csv('interaction_energy_scores_mask_species_full.csv')\n",
    "correct_scores_mask_full = df_energy_mask_full[df_energy_mask_full['correct'] == True]['score'].values\n",
    "incorrect_scores_mask_full = df_energy_mask_full[df_energy_mask_full['correct'] == False]['score'].values\n",
    "incorrect_scores_mask_full = incorrect_scores_mask_full[incorrect_scores_mask_full < def_val]\n",
    "\n",
    "bin_width_mask_full = 5\n",
    "\n",
    "min_mask_full=min(min(correct_scores_mask_full), min(incorrect_scores_mask_full))\n",
    "max_mask_full=max(max(correct_scores_mask_full), max(incorrect_scores_mask_full))\n",
    "bins_mask_full=np.arange(min_mask_full,max_mask_full+bin_width_mask_full,bin_width_mask_full)\n",
    "\n",
    "plt.figure()\n",
    "plt.hist(correct_scores_mask_full, bins=bins_mask_full, alpha=0.5, color=mypalette[0], label='Correct Pairs', density=True, edgecolor='white', linewidth=0.5)\n",
    "plt.hist(incorrect_scores_mask_full, bins=bins_mask_full, alpha=0.5, color=mypalette[1], label='Wrong Pairs', density=True, edgecolor='white', linewidth=0.5)\n",
    "plt.xlabel(\"Energy\")\n",
    "plt.ylabel(\"Normalized Counts\")\n",
    "plt.legend()#bbox_to_anchor=(0.5, 0.7))\n",
    "plt.title(\"With Masks, H={H}, d={d}\".format(H=H, d=d))\n",
    "plt.savefig('mask_energy_scores_species_full.pdf')\n",
    "plt.show()"
   ]
  },
  {
   "cell_type": "code",
   "execution_count": null,
   "metadata": {},
   "outputs": [],
   "source": []
  }
 ],
 "metadata": {
  "kernelspec": {
   "display_name": "master_project",
   "language": "python",
   "name": "python3"
  },
  "language_info": {
   "codemirror_mode": {
    "name": "ipython",
    "version": 3
   },
   "file_extension": ".py",
   "mimetype": "text/x-python",
   "name": "python",
   "nbconvert_exporter": "python",
   "pygments_lexer": "ipython3",
   "version": "3.13.0"
  }
 },
 "nbformat": 4,
 "nbformat_minor": 2
}
